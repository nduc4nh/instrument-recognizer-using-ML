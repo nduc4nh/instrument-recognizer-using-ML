{
 "cells": [
  {
   "cell_type": "markdown",
   "metadata": {
    "id": "VTE4xFLBdDda"
   },
   "source": [
    "#DEMO"
   ]
  },
  {
   "cell_type": "markdown",
   "metadata": {
    "id": "m_8UUpPxdS1B"
   },
   "source": [
    "##Library"
   ]
  },
  {
   "cell_type": "code",
   "execution_count": 2,
   "metadata": {
    "id": "3ByrxUT32INh"
   },
   "outputs": [],
   "source": [
    "import numpy as np\n",
    "import pandas as pd\n",
    "from sklearn.preprocessing import LabelEncoder, StandardScaler, normalize\n",
    "from sklearn.decomposition import PCA\n",
    "from sklearn.neighbors import KNeighborsClassifier\n",
    "from sklearn.metrics import accuracy_score\n",
    "#import librosa !pip install librosa\n",
    "import os\n",
    "import pickle\n",
    "import matplotlib.pyplot as plt\n",
    "from mpl_toolkits.mplot3d import Axes3D"
   ]
  },
  {
   "cell_type": "markdown",
   "metadata": {
    "id": "PTXSJZRLdZq-"
   },
   "source": [
    "##Import dataset"
   ]
  },
  {
   "cell_type": "code",
   "execution_count": 3,
   "metadata": {
    "id": "0NHMhw0B8qqH"
   },
   "outputs": [],
   "source": [
    "with open('./pickles_dataset/ins','rb') as f:\n",
    "    df = pickle.load(f)\n",
    "df = pd.DataFrame(df.to_numpy(),columns = [\"harmonic\",\"zcr\",\"mfcc\",\"spectrum\",\"chroma\",\"contrast\",\"label\"])\n",
    "df['zcr'] = df['zcr'].astype(\"int64\")\n",
    "df['harmonic'] = df['harmonic'].astype(\"int64\")\n",
    "df.zcr = normalize(df.zcr.apply(lambda x: [x]).to_numpy().tolist())\n"
   ]
  },
  {
   "cell_type": "markdown",
   "metadata": {
    "id": "6qHCfNJTdnIN"
   },
   "source": [
    "###Imported dataset"
   ]
  },
  {
   "cell_type": "code",
   "execution_count": 4,
   "metadata": {
    "colab": {
     "base_uri": "https://localhost:8080/",
     "height": 580
    },
    "id": "ChP9yATPDP_U",
    "outputId": "8a83e30f-aa71-4adc-d541-62ce16817d0d"
   },
   "outputs": [
    {
     "data": {
      "text/html": [
       "<div>\n",
       "<style scoped>\n",
       "    .dataframe tbody tr th:only-of-type {\n",
       "        vertical-align: middle;\n",
       "    }\n",
       "\n",
       "    .dataframe tbody tr th {\n",
       "        vertical-align: top;\n",
       "    }\n",
       "\n",
       "    .dataframe thead th {\n",
       "        text-align: right;\n",
       "    }\n",
       "</style>\n",
       "<table border=\"1\" class=\"dataframe\">\n",
       "  <thead>\n",
       "    <tr style=\"text-align: right;\">\n",
       "      <th></th>\n",
       "      <th>harmonic</th>\n",
       "      <th>zcr</th>\n",
       "      <th>mfcc</th>\n",
       "      <th>spectrum</th>\n",
       "      <th>chroma</th>\n",
       "      <th>contrast</th>\n",
       "      <th>label</th>\n",
       "    </tr>\n",
       "  </thead>\n",
       "  <tbody>\n",
       "    <tr>\n",
       "      <th>0</th>\n",
       "      <td>0</td>\n",
       "      <td>1.0</td>\n",
       "      <td>[-595.2376, 119.537605, -50.81658, -8.904817, ...</td>\n",
       "      <td>[0.0011364012, 0.004090574, 0.009503408, 0.019...</td>\n",
       "      <td>[0.25657171174031507, 0.14171514023225437, 0.1...</td>\n",
       "      <td>[21.493506440045845, 19.25726621842412, 20.503...</td>\n",
       "      <td>bass</td>\n",
       "    </tr>\n",
       "    <tr>\n",
       "      <th>1</th>\n",
       "      <td>0</td>\n",
       "      <td>1.0</td>\n",
       "      <td>[-597.9395, 119.107635, -50.95782, -8.931551, ...</td>\n",
       "      <td>[0.0010399392, 0.0037321073, 0.008669907, 0.01...</td>\n",
       "      <td>[0.2650979140510493, 0.1397830404216664, 0.134...</td>\n",
       "      <td>[20.58749383145802, 19.323333085267038, 19.505...</td>\n",
       "      <td>bass</td>\n",
       "    </tr>\n",
       "    <tr>\n",
       "      <th>2</th>\n",
       "      <td>0</td>\n",
       "      <td>1.0</td>\n",
       "      <td>[-595.7844, 119.17386, -50.79512, -8.915298, -...</td>\n",
       "      <td>[0.0011024936, 0.003963426, 0.0092055965, 0.01...</td>\n",
       "      <td>[0.2648447034684589, 0.14480421024048742, 0.14...</td>\n",
       "      <td>[21.410910088614685, 19.808847857369532, 20.29...</td>\n",
       "      <td>bass</td>\n",
       "    </tr>\n",
       "    <tr>\n",
       "      <th>3</th>\n",
       "      <td>0</td>\n",
       "      <td>1.0</td>\n",
       "      <td>[-622.3646, 119.656906, -50.76271, -8.8419695,...</td>\n",
       "      <td>[0.00066067174, 0.002384198, 0.005538755, 0.01...</td>\n",
       "      <td>[0.26555434981269455, 0.1370658677083761, 0.13...</td>\n",
       "      <td>[21.14875185979185, 18.525458131889717, 20.660...</td>\n",
       "      <td>bass</td>\n",
       "    </tr>\n",
       "    <tr>\n",
       "      <th>4</th>\n",
       "      <td>0</td>\n",
       "      <td>1.0</td>\n",
       "      <td>[-595.32904, 120.19392, -50.21294, -8.753614, ...</td>\n",
       "      <td>[0.0011676844, 0.004163325, 0.009648324, 0.019...</td>\n",
       "      <td>[0.2619090454182126, 0.13731757192211624, 0.14...</td>\n",
       "      <td>[20.830423613371803, 18.663498324050373, 20.01...</td>\n",
       "      <td>bass</td>\n",
       "    </tr>\n",
       "    <tr>\n",
       "      <th>...</th>\n",
       "      <td>...</td>\n",
       "      <td>...</td>\n",
       "      <td>...</td>\n",
       "      <td>...</td>\n",
       "      <td>...</td>\n",
       "      <td>...</td>\n",
       "      <td>...</td>\n",
       "    </tr>\n",
       "    <tr>\n",
       "      <th>247598</th>\n",
       "      <td>1</td>\n",
       "      <td>1.0</td>\n",
       "      <td>[-297.45227, 111.675446, -70.83518, -35.55217,...</td>\n",
       "      <td>[0.0014331557, 0.0059405942, 0.015670028, 0.04...</td>\n",
       "      <td>[0.08091496145181044, 0.059044681438159066, 0....</td>\n",
       "      <td>[20.53404904579567, 13.765044165015693, 20.129...</td>\n",
       "      <td>vocal</td>\n",
       "    </tr>\n",
       "    <tr>\n",
       "      <th>247599</th>\n",
       "      <td>1</td>\n",
       "      <td>1.0</td>\n",
       "      <td>[-298.70462, 114.44186, -74.533104, -32.512306...</td>\n",
       "      <td>[0.0015623921, 0.0061985627, 0.01706814, 0.049...</td>\n",
       "      <td>[0.8502870736276478, 0.11157655643492, 0.06760...</td>\n",
       "      <td>[19.955898042550622, 13.689266630347447, 20.13...</td>\n",
       "      <td>vocal</td>\n",
       "    </tr>\n",
       "    <tr>\n",
       "      <th>247600</th>\n",
       "      <td>1</td>\n",
       "      <td>1.0</td>\n",
       "      <td>[-298.28595, 115.47002, -73.8521, -32.010094, ...</td>\n",
       "      <td>[0.0016741533, 0.0069151963, 0.020810027, 0.05...</td>\n",
       "      <td>[0.8242203245466028, 0.10133141825615322, 0.06...</td>\n",
       "      <td>[20.535433448922113, 13.607363435788633, 20.36...</td>\n",
       "      <td>vocal</td>\n",
       "    </tr>\n",
       "    <tr>\n",
       "      <th>247601</th>\n",
       "      <td>0</td>\n",
       "      <td>1.0</td>\n",
       "      <td>[-296.19183, 114.77967, -75.18143, -32.49483, ...</td>\n",
       "      <td>[0.0017348552, 0.0063843257, 0.017872967, 0.04...</td>\n",
       "      <td>[0.8323613346039664, 0.0899756790040338, 0.061...</td>\n",
       "      <td>[18.917373989926777, 13.457411596502634, 20.39...</td>\n",
       "      <td>vocal</td>\n",
       "    </tr>\n",
       "    <tr>\n",
       "      <th>247602</th>\n",
       "      <td>1</td>\n",
       "      <td>1.0</td>\n",
       "      <td>[-292.08295, 115.304436, -74.92093, -32.537186...</td>\n",
       "      <td>[0.0018239107, 0.007836401, 0.0214616, 0.05809...</td>\n",
       "      <td>[0.8599794526944479, 0.10782251463337893, 0.04...</td>\n",
       "      <td>[19.94150182577473, 13.381661526718826, 20.539...</td>\n",
       "      <td>vocal</td>\n",
       "    </tr>\n",
       "  </tbody>\n",
       "</table>\n",
       "<p>247603 rows × 7 columns</p>\n",
       "</div>"
      ],
      "text/plain": [
       "        harmonic  zcr                                               mfcc  \\\n",
       "0              0  1.0  [-595.2376, 119.537605, -50.81658, -8.904817, ...   \n",
       "1              0  1.0  [-597.9395, 119.107635, -50.95782, -8.931551, ...   \n",
       "2              0  1.0  [-595.7844, 119.17386, -50.79512, -8.915298, -...   \n",
       "3              0  1.0  [-622.3646, 119.656906, -50.76271, -8.8419695,...   \n",
       "4              0  1.0  [-595.32904, 120.19392, -50.21294, -8.753614, ...   \n",
       "...          ...  ...                                                ...   \n",
       "247598         1  1.0  [-297.45227, 111.675446, -70.83518, -35.55217,...   \n",
       "247599         1  1.0  [-298.70462, 114.44186, -74.533104, -32.512306...   \n",
       "247600         1  1.0  [-298.28595, 115.47002, -73.8521, -32.010094, ...   \n",
       "247601         0  1.0  [-296.19183, 114.77967, -75.18143, -32.49483, ...   \n",
       "247602         1  1.0  [-292.08295, 115.304436, -74.92093, -32.537186...   \n",
       "\n",
       "                                                 spectrum  \\\n",
       "0       [0.0011364012, 0.004090574, 0.009503408, 0.019...   \n",
       "1       [0.0010399392, 0.0037321073, 0.008669907, 0.01...   \n",
       "2       [0.0011024936, 0.003963426, 0.0092055965, 0.01...   \n",
       "3       [0.00066067174, 0.002384198, 0.005538755, 0.01...   \n",
       "4       [0.0011676844, 0.004163325, 0.009648324, 0.019...   \n",
       "...                                                   ...   \n",
       "247598  [0.0014331557, 0.0059405942, 0.015670028, 0.04...   \n",
       "247599  [0.0015623921, 0.0061985627, 0.01706814, 0.049...   \n",
       "247600  [0.0016741533, 0.0069151963, 0.020810027, 0.05...   \n",
       "247601  [0.0017348552, 0.0063843257, 0.017872967, 0.04...   \n",
       "247602  [0.0018239107, 0.007836401, 0.0214616, 0.05809...   \n",
       "\n",
       "                                                   chroma  \\\n",
       "0       [0.25657171174031507, 0.14171514023225437, 0.1...   \n",
       "1       [0.2650979140510493, 0.1397830404216664, 0.134...   \n",
       "2       [0.2648447034684589, 0.14480421024048742, 0.14...   \n",
       "3       [0.26555434981269455, 0.1370658677083761, 0.13...   \n",
       "4       [0.2619090454182126, 0.13731757192211624, 0.14...   \n",
       "...                                                   ...   \n",
       "247598  [0.08091496145181044, 0.059044681438159066, 0....   \n",
       "247599  [0.8502870736276478, 0.11157655643492, 0.06760...   \n",
       "247600  [0.8242203245466028, 0.10133141825615322, 0.06...   \n",
       "247601  [0.8323613346039664, 0.0899756790040338, 0.061...   \n",
       "247602  [0.8599794526944479, 0.10782251463337893, 0.04...   \n",
       "\n",
       "                                                 contrast  label  \n",
       "0       [21.493506440045845, 19.25726621842412, 20.503...   bass  \n",
       "1       [20.58749383145802, 19.323333085267038, 19.505...   bass  \n",
       "2       [21.410910088614685, 19.808847857369532, 20.29...   bass  \n",
       "3       [21.14875185979185, 18.525458131889717, 20.660...   bass  \n",
       "4       [20.830423613371803, 18.663498324050373, 20.01...   bass  \n",
       "...                                                   ...    ...  \n",
       "247598  [20.53404904579567, 13.765044165015693, 20.129...  vocal  \n",
       "247599  [19.955898042550622, 13.689266630347447, 20.13...  vocal  \n",
       "247600  [20.535433448922113, 13.607363435788633, 20.36...  vocal  \n",
       "247601  [18.917373989926777, 13.457411596502634, 20.39...  vocal  \n",
       "247602  [19.94150182577473, 13.381661526718826, 20.539...  vocal  \n",
       "\n",
       "[247603 rows x 7 columns]"
      ]
     },
     "execution_count": 4,
     "metadata": {},
     "output_type": "execute_result"
    }
   ],
   "source": [
    "df"
   ]
  },
  {
   "cell_type": "code",
   "execution_count": 5,
   "metadata": {
    "colab": {
     "base_uri": "https://localhost:8080/",
     "height": 265
    },
    "id": "003MOGyJU_zt",
    "outputId": "b0e7e5f0-d6b0-48fd-ece6-3ca7cbc96ed3"
   },
   "outputs": [
    {
     "data": {
      "image/png": "[encoded data removed]",
      "text/plain": [
       "<Figure size 432x288 with 1 Axes>"
      ]
     },
     "metadata": {
      "needs_background": "light"
     },
     "output_type": "display_data"
    }
   ],
   "source": [
    "#Label distribution\n",
    "d = df.label.value_counts().to_dict()\n",
    "plt.barh(list(d.keys()), list(d.values()),height = 0.5)\n",
    "plt.show()"
   ]
  },
  {
   "cell_type": "code",
   "execution_count": 6,
   "metadata": {
    "id": "g6q-AyCTVkFZ"
   },
   "outputs": [],
   "source": [
    "remove_mallet_id = np.random.choice(df[df.label == \"mallet\"].index, size = 17000,replace=False)\n",
    "remove_keyboard_id = np.random.choice(df[df.label == \"keyboard\"].index, size = 38000,replace=False)\n",
    "remove_bass_id = np.random.choice(df[df.label == \"bass\"].index, size = 38000,replace=False)\n",
    "df = df.drop(np.concatenate([remove_mallet_id,remove_keyboard_id,remove_bass_id]),0)"
   ]
  },
  {
   "cell_type": "code",
   "execution_count": 7,
   "metadata": {
    "colab": {
     "base_uri": "https://localhost:8080/",
     "height": 265
    },
    "id": "VZ4vemLCVkSS",
    "outputId": "8c25ea8a-d69c-4bd2-b39d-9da65d69d5ad"
   },
   "outputs": [
    {
     "data": {
      "image/png": "[encoded data removed]",
      "text/plain": [
       "<Figure size 432x288 with 1 Axes>"
      ]
     },
     "metadata": {
      "needs_background": "light"
     },
     "output_type": "display_data"
    }
   ],
   "source": [
    "#After downsampling\n",
    "d = df.label.value_counts().to_dict()\n",
    "plt.barh(list(d.keys()), list(d.values()),height = 0.5)\n",
    "plt.show()"
   ]
  },
  {
   "cell_type": "markdown",
   "metadata": {
    "id": "Mh__aMIreTlM"
   },
   "source": [
    "##Preparation"
   ]
  },
  {
   "cell_type": "code",
   "execution_count": 12,
   "metadata": {
    "id": "od1SAhInBZep"
   },
   "outputs": [],
   "source": [
    "label_encoder = LabelEncoder()\n",
    "label_encoder.fit(df.label.unique())\n",
    "df_label = label_encoder.transform(df.label) \n"
   ]
  },
  {
   "cell_type": "code",
   "execution_count": 13,
   "metadata": {
    "id": "vyIWnWxKPr1b"
   },
   "outputs": [],
   "source": [
    "#Convert dataframe to right format\n",
    "def scale_feature(df,feature_name):\n",
    "    scaler = StandardScaler()\n",
    "    if df[feature_name].dtype != 'float64' and df[feature_name].dtype != 'int64': \n",
    "        scaled_feature = df[feature_name].to_numpy().tolist()\n",
    "    else:\n",
    "        scaled_feature =  df[feature_name]\n",
    "        return scaled_feature.apply(lambda x: [x]).to_numpy().tolist()\n",
    "    res = []\n",
    "    for i in range(df.shape[0]):\n",
    "        temp = scaled_feature[i]\n",
    "        res.append(temp)\n",
    "    return res\n",
    "\n",
    "def to_learnable(df,features):\n",
    "    return np.concatenate([np.array(scale_feature(df,feature)) for feature in features],axis = 1)"
   ]
  },
  {
   "cell_type": "markdown",
   "metadata": {
    "id": "oZv2Mazbe_Yo"
   },
   "source": [
    "##Learning and predicting\n",
    "<p>Load test data before running this section</p>"
   ]
  },
  {
   "cell_type": "markdown",
   "metadata": {
    "id": "FQaupSXefHtr"
   },
   "source": [
    "###Mfcc"
   ]
  },
  {
   "cell_type": "code",
   "execution_count": 14,
   "metadata": {
    "id": "UA86WJZJqVlA"
   },
   "outputs": [],
   "source": [
    "features = ['mfcc']"
   ]
  },
  {
   "cell_type": "code",
   "execution_count": 15,
   "metadata": {
    "id": "zxt7Nck1VZ1g"
   },
   "outputs": [
    {
     "data": {
      "text/plain": [
       "'k_range = list(range(1,11))\\nscores = []\\nfor k in k_range:\\n    knn = KNeighborsClassifier(n_neighbors = k)\\n    knn.fit(to_learnable(df,features), df_label)\\n    predicted_label = knn.predict(to_learnable(validate_df,features))\\n    scores.append(accuracy_score(predicted_label,label_encoder.transform(validate_df.label)))\\nplt.plot(k_range, scores) -> 1,4,10'"
      ]
     },
     "execution_count": 15,
     "metadata": {},
     "output_type": "execute_result"
    }
   ],
   "source": [
    "\"\"\"k_range = list(range(1,11))\n",
    "scores = []\n",
    "for k in k_range:\n",
    "    knn = KNeighborsClassifier(n_neighbors = k)\n",
    "    knn.fit(to_learnable(df,features), df_label)\n",
    "    predicted_label = knn.predict(to_learnable(validate_df,features))\n",
    "    scores.append(accuracy_score(predicted_label,label_encoder.transform(validate_df.label)))\n",
    "plt.plot(k_range, scores) -> 1,4,10\"\"\" "
   ]
  },
  {
   "cell_type": "code",
   "execution_count": 16,
   "metadata": {
    "colab": {
     "base_uri": "https://localhost:8080/"
    },
    "id": "CJ21uZK-W9ik",
    "outputId": "69b32050-9e8a-4e88-c5dd-5fe6ea699302"
   },
   "outputs": [
    {
     "data": {
      "text/plain": [
       "KNeighborsClassifier(n_neighbors=4)"
      ]
     },
     "execution_count": 16,
     "metadata": {},
     "output_type": "execute_result"
    }
   ],
   "source": [
    "#train\n",
    "knn = KNeighborsClassifier(n_neighbors = 4)\n",
    "knn.fit(to_learnable(df,features), df_label)\n"
   ]
  },
  {
   "cell_type": "code",
   "execution_count": 17,
   "metadata": {
    "id": "qUZQvpJWao2v"
   },
   "outputs": [],
   "source": [
    "with open('./demo/data/guitar_test_ins','rb') as f:\n",
    "    guitar_test = pickle.load(f)\n",
    "guitar_test = pd.DataFrame(guitar_test.to_numpy(),columns=[\"harmonic\",\"zcr\",\"mfcc\",\"spectrum\",\"chroma\",\"contrast\"])\n",
    "guitar_test.zcr = guitar_test.zcr.astype('int64')\n",
    "guitar_test.harmonic = guitar_test.harmonic.astype('int64')\n",
    "guitar_test.zcr = normalize(guitar_test.zcr.apply(lambda x: [x]).to_numpy().tolist())"
   ]
  },
  {
   "cell_type": "code",
   "execution_count": 18,
   "metadata": {
    "id": "FUh3zDkuhjOu"
   },
   "outputs": [],
   "source": [
    "with open('./demo/data/test_ins','rb') as f:\n",
    "    flute_test = pickle.load(f)\n",
    "flute_test = pd.DataFrame(flute_test.to_numpy(),columns=[\"harmonic\",\"zcr\",\"mfcc\",\"spectrum\",\"chroma\",\"contrast\"])\n",
    "flute_test.zcr = flute_test.zcr.astype('int64')\n",
    "flute_test.harmonic = flute_test.harmonic.astype('int64')\n",
    "flute_test.zcr = normalize(flute_test.zcr.apply(lambda x: [x]).to_numpy().tolist())"
   ]
  },
  {
   "cell_type": "code",
   "execution_count": 21,
   "metadata": {
    "id": "LCwdEA4Bhi77"
   },
   "outputs": [],
   "source": [
    "with open('./demo/data/bass_test_ins','rb') as f:\n",
    "    bass_test = pickle.load(f)\n",
    "bass_test = pd.DataFrame(bass_test.to_numpy(),columns=[\"harmonic\",\"zcr\",\"mfcc\",\"spectrum\",\"chroma\",\"contrast\"])\n",
    "bass_test.zcr = bass_test.zcr.astype('int64')\n",
    "bass_test.harmonic = bass_test.harmonic.astype('int64')\n",
    "bass_test.zcr = normalize(bass_test.zcr.apply(lambda x: [x]).to_numpy().tolist())"
   ]
  },
  {
   "cell_type": "code",
   "execution_count": 22,
   "metadata": {
    "id": "yEkiXKNBhjIe"
   },
   "outputs": [],
   "source": [
    "with open('./demo/data/piano_test_ins','rb') as f:\n",
    "    piano_test = pickle.load(f)\n",
    "piano_test = pd.DataFrame(piano_test.to_numpy(),columns=[\"harmonic\",\"zcr\",\"mfcc\",\"spectrum\",\"chroma\",\"contrast\"])\n",
    "piano_test.zcr = piano_test.zcr.astype('int64')\n",
    "piano_test.harmonic = piano_test.harmonic.astype('int64')\n",
    "piano_test.zcr = normalize(piano_test.zcr.apply(lambda x: [x]).to_numpy().tolist())"
   ]
  },
  {
   "cell_type": "code",
   "execution_count": 23,
   "metadata": {
    "id": "8NZ06luwuREt"
   },
   "outputs": [],
   "source": [
    "with open('./demo/data/cellotest_ins','rb') as f:\n",
    "    cello_test = pickle.load(f)\n",
    "cello_test = pd.DataFrame(cello_test.to_numpy(),columns=[\"harmonic\",\"zcr\",\"mfcc\",\"spectrum\",\"chroma\",\"contrast\"])\n",
    "cello_test.zcr = cello_test.zcr.astype('int64')\n",
    "cello_test.harmonic = cello_test.harmonic.astype('int64')\n",
    "cello_test.zcr = normalize(cello_test.zcr.apply(lambda x: [x]).to_numpy().tolist())"
   ]
  },
  {
   "cell_type": "code",
   "execution_count": 24,
   "metadata": {
    "colab": {
     "base_uri": "https://localhost:8080/",
     "height": 264
    },
    "id": "lpmnZyM2VZ4E",
    "outputId": "9389705d-ec4c-4ad7-e563-0a88c010c889"
   },
   "outputs": [
    {
     "data": {
      "image/png": "[encoded data removed]",
      "text/plain": [
       "<Figure size 432x288 with 1 Axes>"
      ]
     },
     "metadata": {},
     "output_type": "display_data"
    }
   ],
   "source": [
    "#required test data to be loaded\n",
    "d = pd.DataFrame({\"result\":label_encoder.inverse_transform(knn.predict(to_learnable(flute_test,features)))}).value_counts()[:3]\n",
    "\"\"\"plt.pie(pd.DataFrame({\"result\":label_encoder.inverse_transform(knn.predict(to_learnable(test,features)))}).value_counts())\"\"\"\n",
    "\n",
    "labels = list(map(lambda x:x[0],list(d.to_dict().keys())))\n",
    "values = list(d.to_dict().values())\n",
    "plt.pie(d,labels = labels,autopct=lambda x:str(int(x)) + \"%\")\n",
    "plt.title(\"Flute test\")\n",
    "plt.show()"
   ]
  },
  {
   "cell_type": "code",
   "execution_count": 25,
   "metadata": {
    "colab": {
     "base_uri": "https://localhost:8080/",
     "height": 264
    },
    "id": "HHVGEiYwVZ8k",
    "outputId": "b8cec21b-0b53-4c68-f12b-4c39537b8744"
   },
   "outputs": [
    {
     "data": {
      "image/png": "[encoded data removed]",
      "text/plain": [
       "<Figure size 432x288 with 1 Axes>"
      ]
     },
     "metadata": {},
     "output_type": "display_data"
    }
   ],
   "source": [
    "d = pd.DataFrame({\"result\":label_encoder.inverse_transform(knn.predict(to_learnable(piano_test,features)))}).value_counts()[:3]\n",
    "labels = list(map(lambda x:x[0],list(d.to_dict().keys())))\n",
    "values = list(d.to_dict().values())\n",
    "plt.pie(d,labels = labels,autopct=lambda x:str(int(x)) + \"%\")\n",
    "plt.title(\"Piano test\")\n",
    "plt.show()"
   ]
  },
  {
   "cell_type": "code",
   "execution_count": 26,
   "metadata": {
    "colab": {
     "base_uri": "https://localhost:8080/",
     "height": 264
    },
    "id": "aqenGP8LVaFJ",
    "outputId": "db2f2e64-0fc6-4167-a0b5-178c878fcc58"
   },
   "outputs": [
    {
     "data": {
      "image/png": "[encoded data removed]",
      "text/plain": [
       "<Figure size 432x288 with 1 Axes>"
      ]
     },
     "metadata": {},
     "output_type": "display_data"
    }
   ],
   "source": [
    "d = pd.DataFrame({\"result\":label_encoder.inverse_transform(knn.predict(to_learnable(guitar_test,features)))}).value_counts()[:3]\n",
    "labels = list(map(lambda x:x[0],list(d.to_dict().keys())))\n",
    "values = list(d.to_dict().values())\n",
    "plt.pie(d,labels = labels,autopct=lambda x:str(int(x)) + \"%\")\n",
    "plt.title(\"Guitar test\")\n",
    "plt.show()"
   ]
  },
  {
   "cell_type": "code",
   "execution_count": 27,
   "metadata": {
    "colab": {
     "base_uri": "https://localhost:8080/",
     "height": 264
    },
    "id": "hqweSuXWlt67",
    "outputId": "2a4ac1c2-69b0-4e28-a54f-4827621f46a1"
   },
   "outputs": [
    {
     "data": {
      "image/png": "[encoded data removed]",
      "text/plain": [
       "<Figure size 432x288 with 1 Axes>"
      ]
     },
     "metadata": {},
     "output_type": "display_data"
    }
   ],
   "source": [
    "d = pd.DataFrame({\"result\":label_encoder.inverse_transform(knn.predict(to_learnable(bass_test,features)))}).value_counts()[:3]\n",
    "labels = list(map(lambda x:x[0],list(d.to_dict().keys())))\n",
    "values = list(d.to_dict().values())\n",
    "plt.pie(d,labels = labels,autopct=lambda x:str(int(x)) + \"%\")\n",
    "plt.title(\"Bass test\")\n",
    "plt.show()"
   ]
  },
  {
   "cell_type": "code",
   "execution_count": null,
   "metadata": {
    "id": "0Q4h216smHrH"
   },
   "outputs": [],
   "source": []
  },
  {
   "cell_type": "markdown",
   "metadata": {
    "id": "gBuRFTUumtvS"
   },
   "source": [
    "###Average zero crossing,Harmonic ,Chroma ,Contrast, Mfcc and Spectrum"
   ]
  },
  {
   "cell_type": "code",
   "execution_count": 28,
   "metadata": {
    "id": "O1NXUUb8nFJl"
   },
   "outputs": [],
   "source": [
    "features = ['harmonic','zcr','mfcc','chroma','spectrum','contrast']"
   ]
  },
  {
   "cell_type": "code",
   "execution_count": 29,
   "metadata": {
    "id": "ODkTMI1OnFJm"
   },
   "outputs": [
    {
     "data": {
      "text/plain": [
       "'k_range = list(range(1,11))\\nscores = []\\nfor k in k_range:\\n    knn = KNeighborsClassifier(n_neighbors = k)\\n    knn.fit(to_learnable(df,features), df_label)\\n    predicted_label = knn.predict(to_learnable(validate_df,features))\\n    scores.append(accuracy_score(predicted_label,label_encoder.transform(validate_df.label)))\\nplt.plot(k_range, scores) '"
      ]
     },
     "execution_count": 29,
     "metadata": {},
     "output_type": "execute_result"
    }
   ],
   "source": [
    "\"\"\"k_range = list(range(1,11))\n",
    "scores = []\n",
    "for k in k_range:\n",
    "    knn = KNeighborsClassifier(n_neighbors = k)\n",
    "    knn.fit(to_learnable(df,features), df_label)\n",
    "    predicted_label = knn.predict(to_learnable(validate_df,features))\n",
    "    scores.append(accuracy_score(predicted_label,label_encoder.transform(validate_df.label)))\n",
    "plt.plot(k_range, scores) \"\"\""
   ]
  },
  {
   "cell_type": "code",
   "execution_count": 30,
   "metadata": {
    "colab": {
     "base_uri": "https://localhost:8080/"
    },
    "id": "gzT0W0sEnFJm",
    "outputId": "c9897f24-09f9-4797-b5af-fa80580ec546"
   },
   "outputs": [
    {
     "data": {
      "text/plain": [
       "KNeighborsClassifier(n_neighbors=4)"
      ]
     },
     "execution_count": 30,
     "metadata": {},
     "output_type": "execute_result"
    }
   ],
   "source": [
    "#train\n",
    "knn = KNeighborsClassifier(n_neighbors = 4)\n",
    "knn.fit(to_learnable(df,features), df_label)\n"
   ]
  },
  {
   "cell_type": "code",
   "execution_count": 31,
   "metadata": {
    "colab": {
     "base_uri": "https://localhost:8080/",
     "height": 264
    },
    "id": "MFEvHBBFnFJn",
    "outputId": "278c6b7d-c9ff-4184-cdd2-214fc81a10ac"
   },
   "outputs": [
    {
     "data": {
      "image/png": "[encoded data removed]",
      "text/plain": [
       "<Figure size 432x288 with 1 Axes>"
      ]
     },
     "metadata": {},
     "output_type": "display_data"
    }
   ],
   "source": [
    "#required test data to be loaded\n",
    "d = pd.DataFrame({\"result\":label_encoder.inverse_transform(knn.predict(to_learnable(flute_test,features)))}).value_counts()[:3]\n",
    "\"\"\"plt.pie(pd.DataFrame({\"result\":label_encoder.inverse_transform(knn.predict(to_learnable(test,features)))}).value_counts())\"\"\"\n",
    "\n",
    "labels = list(map(lambda x:x[0],list(d.to_dict().keys())))\n",
    "values = list(d.to_dict().values())\n",
    "plt.pie(d,labels = labels,autopct=lambda x:str(int(x)) + \"%\")\n",
    "plt.title(\"Flute test\")\n",
    "plt.show()"
   ]
  },
  {
   "cell_type": "code",
   "execution_count": 33,
   "metadata": {
    "id": "fjPQCWt_xbfr"
   },
   "outputs": [],
   "source": [
    "validate_df = None\n",
    "test_df = None\n",
    "with open(\"./demo/data/validate_test\",\"rb\") as f:\n",
    "    validate_df,test_df = pickle.load(f)[1:]\n",
    "test_df = pd.DataFrame(test_df.to_numpy(),columns=[\"harmonic\",\"zcr\",\"mfcc\",\"spectrum\",\"chroma\",\"contrast\",\"label\"])\n",
    "test_df.zcr = test_df.zcr.astype('int64')\n",
    "test_df.harmonic = test_df.harmonic.astype('int64')\n",
    "validate_df = pd.DataFrame(validate_df.to_numpy(),columns=[\"harmonic\",\"zcr\",\"mfcc\",\"spectrum\",\"chroma\",\"contrast\",\"label\"])\n",
    "validate_df.zcr = validate_df.zcr.astype('int64')\n",
    "validate_df.harmonic = validate_df.harmonic.astype('int64')"
   ]
  },
  {
   "cell_type": "code",
   "execution_count": 34,
   "metadata": {
    "colab": {
     "base_uri": "https://localhost:8080/",
     "height": 264
    },
    "id": "goY8W-4EnFJn",
    "outputId": "98afcfb7-db69-4640-d052-77415c9d7964"
   },
   "outputs": [
    {
     "data": {
      "image/png": "[encoded data removed]",
      "text/plain": [
       "<Figure size 432x288 with 1 Axes>"
      ]
     },
     "metadata": {},
     "output_type": "display_data"
    }
   ],
   "source": [
    "d = pd.DataFrame({\"result\":label_encoder.inverse_transform(knn.predict(to_learnable(piano_test,features)))}).value_counts()[:3]\n",
    "labels = list(map(lambda x:x[0],list(d.to_dict().keys())))\n",
    "values = list(d.to_dict().values())\n",
    "plt.pie(d,labels = labels,autopct=lambda x:str(int(x)) + \"%\")\n",
    "plt.title(\"Piano test\")\n",
    "plt.show()"
   ]
  },
  {
   "cell_type": "code",
   "execution_count": 35,
   "metadata": {
    "colab": {
     "base_uri": "https://localhost:8080/",
     "height": 264
    },
    "id": "PYAmGpyonFJo",
    "outputId": "0fe746ad-06e9-4955-80d4-1cbee7fc9d75"
   },
   "outputs": [
    {
     "data": {
      "image/png": "[encoded data removed]",
      "text/plain": [
       "<Figure size 432x288 with 1 Axes>"
      ]
     },
     "metadata": {},
     "output_type": "display_data"
    }
   ],
   "source": [
    "d = pd.DataFrame({\"result\":label_encoder.inverse_transform(knn.predict(to_learnable(guitar_test,features)))}).value_counts()[:3]\n",
    "labels = list(map(lambda x:x[0],list(d.to_dict().keys())))\n",
    "values = list(d.to_dict().values())\n",
    "plt.pie(d,labels = labels,autopct=lambda x:str(int(x)) + \"%\")\n",
    "plt.title(\"Guitar test\")\n",
    "plt.show()"
   ]
  },
  {
   "cell_type": "code",
   "execution_count": 36,
   "metadata": {
    "colab": {
     "base_uri": "https://localhost:8080/",
     "height": 264
    },
    "id": "CyIpOJiFnFJo",
    "outputId": "d43f8517-31b5-43a3-d01c-70cde1c55ea7"
   },
   "outputs": [
    {
     "data": {
      "image/png": "[encoded data removed]",
      "text/plain": [
       "<Figure size 432x288 with 1 Axes>"
      ]
     },
     "metadata": {},
     "output_type": "display_data"
    }
   ],
   "source": [
    "d = pd.DataFrame({\"result\":label_encoder.inverse_transform(knn.predict(to_learnable(bass_test,features)))}).value_counts()[:3]\n",
    "labels = list(map(lambda x:x[0],list(d.to_dict().keys())))\n",
    "values = list(d.to_dict().values())\n",
    "plt.pie(d,labels = labels,autopct=lambda x:str(int(x)) + \"%\")\n",
    "plt.title(\"Bass test\")\n",
    "plt.show()"
   ]
  },
  {
   "cell_type": "code",
   "execution_count": 37,
   "metadata": {
    "colab": {
     "base_uri": "https://localhost:8080/",
     "height": 264
    },
    "id": "L7S2FUYeub0Z",
    "outputId": "3006f38e-907f-488a-a91a-f291bc55352b"
   },
   "outputs": [
    {
     "data": {
      "image/png": "[encoded data removed]",
      "text/plain": [
       "<Figure size 432x288 with 1 Axes>"
      ]
     },
     "metadata": {},
     "output_type": "display_data"
    }
   ],
   "source": [
    "d = pd.DataFrame({\"result\":label_encoder.inverse_transform(knn.predict(to_learnable(cello_test,features)))}).value_counts()[:3]\n",
    "labels = list(map(lambda x:x[0],list(d.to_dict().keys())))\n",
    "values = list(d.to_dict().values())\n",
    "plt.pie(d,labels = labels,autopct=lambda x:str(int(x)) + \"%\")\n",
    "plt.title(\"Cello test\")\n",
    "plt.show()"
   ]
  },
  {
   "cell_type": "markdown",
   "metadata": {
    "id": "8DjHAf4Nf6f7"
   },
   "source": [
    "##Load test data\n",
    "This includes: guitar, flute, bass, piano </br> \n",
    "flute: ../pickles/test_ins </br>\n",
    "guitar: ../pickles/guitar_test_ins </br>\n",
    "bass: ../pickles/bass_test_ins </br>\n",
    "piano:../pickles/piano_test_ins </br>"
   ]
  },
  {
   "cell_type": "markdown",
   "metadata": {
    "id": "vtuxX0tVdCkK"
   },
   "source": [
    "Load nsynth test"
   ]
  },
  {
   "cell_type": "code",
   "execution_count": null,
   "metadata": {
    "id": "JCUgz-sl4Mtf"
   },
   "outputs": [],
   "source": []
  },
  {
   "cell_type": "markdown",
   "metadata": {
    "id": "unHp-HFZfud2"
   },
   "source": [
    "###Extract faeture of test files\n",
    "Not require"
   ]
  },
  {
   "cell_type": "code",
   "execution_count": null,
   "metadata": {
    "id": "tCd7T5GVWpaC"
   },
   "outputs": [],
   "source": [
    "import librosa\n",
    "import numpy as np\n",
    "import pandas as  pd\n",
    "from matplotlib import pyplot as plt\n",
    "import json,pickle\n",
    "import os\n",
    "\n",
    "def avg_zero_crossing(array,sr):\n",
    "    n = len(array)\n",
    "    s = 0\n",
    "    for ele in array:\n",
    "        if ele:\n",
    "            s += 1\n",
    "    return s/(n/sr)\n",
    "\n",
    "def feature_extract(file):\n",
    "    try:\n",
    "        \"\"\"\n",
    "        Define function that takes in a file an returns features in an array\n",
    "        \"\"\"\n",
    "    \n",
    "        #get wave representation\n",
    "        y, sr = librosa.load(file)\n",
    "        \n",
    "        #determine if instruemnt is harmonic or percussive by comparing means\n",
    "        y_harmonic, y_percussive = librosa.effects.hpss(y)\n",
    "        if np.mean(y_harmonic)>np.mean(y_percussive):\n",
    "            harmonic=1\n",
    "        else:\n",
    "            harmonic=0\n",
    "        \n",
    "        #Mel-frequency cepstral coefficients (MFCCs)\n",
    "        mfcc = librosa.feature.mfcc(y=y, sr=sr, n_mfcc=13)\n",
    "        #temporal averaging\n",
    "        mfcc=np.mean(mfcc,axis=1)\n",
    "    \n",
    "        #get the mel-scaled spectrogram\n",
    "        spectrogram = librosa.feature.melspectrogram(y=y, sr=sr, n_mels=32,fmax=8000)  \n",
    "        #temporally average spectrogram\n",
    "        spectrogram = np.mean(spectrogram, axis = 1)\n",
    "    \n",
    "        #compute chroma energy\n",
    "        chroma = librosa.feature.chroma_cens(y=y, sr=sr)\n",
    "        #temporally average chroma\n",
    "        chroma = np.mean(chroma, axis = 1)\n",
    "    \n",
    "        #compute spectral contrast\n",
    "        contrast = librosa.feature.spectral_contrast(y=y, sr=sr)\n",
    "        contrast = np.mean(contrast, axis= 1)\n",
    "        \n",
    "        #avg_zero_crossing\n",
    "        zero_crossing_feature = avg_zero_crossing(librosa.zero_crossings(y),sr)\n",
    "        \n",
    "        return [harmonic,zero_crossing_feature, mfcc, spectrogram, chroma, contrast]\n",
    "    except:\n",
    "        pass\n",
    "\n",
    "\n",
    "\n",
    "#bo cai instrument name di\n",
    "\n",
    "path = '/content/drive/MyDrive/Colab_Notebooks/data/instrument/test/files'\n",
    "#dest = r'C:\\Users\\nguyenducanh\\Desktop\\current_proj\\dataset\\completed'\n",
    "instrument_names = os.listdir(path)\n",
    "for ele in instrument_names:\n",
    "    tmp_matrix = feature_extract(os.path.join(path,ele))\n",
    "    #os.rename(os.path.join(path,ele),os.path.join(dest,ele))\n",
    "    with open(os.path.join('/content/drive/MyDrive/Colab_Notebooks/data/instrument/test/feature_test',ele + '_feature_bin'),\"wb\") as f:\n",
    "        pickle.dump(tmp_matrix,f)"
   ]
  },
  {
   "cell_type": "code",
   "execution_count": null,
   "metadata": {
    "id": "ETFahEV_Z4JH"
   },
   "outputs": [],
   "source": [
    "path = '/content/drive/MyDrive/Colab_Notebooks/data/instrument/test/feature_test'\n",
    "names = os.listdir(path)\n",
    "matrix = []\n",
    "for ele in names:\n",
    "  try:  \n",
    "    tmp = []\n",
    "    with open(os.path.join(path,ele), \"rb\") as f:\n",
    "      tmp = pickle.load(f)\n",
    "    matrix.append(tmp)\n",
    "  except:\n",
    "    pass\n",
    "test = pd.DataFrame(matrix,columns = [\"harmonic\",\"zcr\",\"mfcc\",\"spectrum\",\"chroma\",\"contrast\"])\n",
    "with open('/content/drive/MyDrive/Colab_Notebooks/data/instrument/test/pickles/test_ins','wb') as f:\n",
    "  pickle.dump(test,f)"
   ]
  }
 ],
 "metadata": {
  "colab": {
   "collapsed_sections": [
    "unHp-HFZfud2"
   ],
   "name": "learn_all_feature_instrument.ipynb",
   "provenance": []
  },
  "kernelspec": {
   "display_name": "Python 3",
   "language": "python",
   "name": "python3"
  },
  "language_info": {
   "codemirror_mode": {
    "name": "ipython",
    "version": 3
   },
   "file_extension": ".py",
   "mimetype": "text/x-python",
   "name": "python",
   "nbconvert_exporter": "python",
   "pygments_lexer": "ipython3",
   "version": "3.8.5"
  }
 },
 "nbformat": 4,
 "nbformat_minor": 1
}
